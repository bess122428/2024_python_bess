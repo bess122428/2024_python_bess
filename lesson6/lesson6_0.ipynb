{
 "cells": [
  {
   "cell_type": "code",
   "execution_count": null,
   "metadata": {},
   "outputs": [],
   "source": [
    "name = input(\"Please enter your name\")\n",
    "height = float(input(\"Please enter your height(cm):\"))\n",
    "weight = float(input(\"Please enter your weight(kg):\"))\n",
    "\n",
    "bmi = weight / (height/100) **2\n",
    "if bmi < 18.5:\n",
    "    rate = \"UnderWeight!\"\n",
    "elif bmi < 24:\n",
    "    rate = \"Normal Weight!\"\n",
    "elif bmi < 27:\n",
    "    rate = \"Too Heavy!\"\n",
    "elif bmi < 30:\n",
    "    rate = \"Mild Obesity!\"\n",
    "elif bmi < 35:\n",
    "    rate = \"Moderately Obese!\"\n",
    "else:\n",
    "    rate = \"Severe Obesity!\"\n",
    "print(f\"Your name is {name}\")\n",
    "print(f\"Your height is {height} cm\")\n",
    "print(f\"Your weight is {weight} kg\")\n",
    "print(f\"Your BMI value is {round(bmi,ndigits = 2)}\")\n",
    "print(f\"Your BMI range is {rate}.\")"
   ]
  }
 ],
 "metadata": {
  "language_info": {
   "name": "python"
  }
 },
 "nbformat": 4,
 "nbformat_minor": 2
}
