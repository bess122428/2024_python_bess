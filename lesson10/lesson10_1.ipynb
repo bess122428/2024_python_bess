{
 "cells": [
  {
   "cell_type": "code",
   "execution_count": 2,
   "metadata": {},
   "outputs": [
    {
     "data": {
      "text/plain": [
       "True"
      ]
     },
     "execution_count": 2,
     "metadata": {},
     "output_type": "execute_result"
    }
   ],
   "source": [
    "file = open(\"names.txt\",encoding='utf-8')\n",
    "\n",
    "file.close()\n",
    "file.closed"
   ]
  },
  {
   "cell_type": "code",
   "execution_count": 6,
   "metadata": {},
   "outputs": [
    {
     "name": "stdout",
     "output_type": "stream",
     "text": [
      "<class 'str'>\n"
     ]
    }
   ],
   "source": [
    "with open(\"names.txt\",encoding='utf-8') as file:\n",
    "    content:str = file.read()\n",
    "    #print(content)\n",
    "\n",
    "print(type(content))\n"
   ]
  },
  {
   "cell_type": "code",
   "execution_count": null,
   "metadata": {},
   "outputs": [],
   "source": [
    "with open(\"names.txt\",encoding='utf-8') as file:\n",
    "    content:str = file.read()\n",
    "    \n",
    "names:list[str] = content.split()\n",
    "num:int = len(names)\n",
    "print(names[0:6])\n",
    "print(names[-7:])\n",
    "for name in names:\n",
    "    print(name)"
   ]
  },
  {
   "cell_type": "code",
   "execution_count": 9,
   "metadata": {},
   "outputs": [
    {
     "data": {
      "text/plain": [
       "['許芳如', '簡佳樺', '彭偉妃', '李彥伸', '林佳人']"
      ]
     },
     "execution_count": 9,
     "metadata": {},
     "output_type": "execute_result"
    }
   ],
   "source": [
    "from random import choices\n",
    "\n",
    "choices(names,k=5)"
   ]
  },
  {
   "cell_type": "code",
   "execution_count": 15,
   "metadata": {},
   "outputs": [
    {
     "name": "stdout",
     "output_type": "stream",
     "text": [
      "請選擇需要的人名數量(請選擇1,2,3,4,5):\n",
      "1. 1個\n",
      "2. 2個\n",
      "3. 3個\n",
      "4. 4個\n",
      "5. 5個\n",
      "方雅慧\n",
      "蔡明平\n"
     ]
    }
   ],
   "source": [
    "import pyinputplus as pypi\n",
    "\n",
    "num_str:str = pypi.inputMenu(['1個','2個','3個','4個','5個'],\n",
    "                   prompt = \"請選擇需要的人名數量(請選擇1,2,3,4,5):\\n\",\n",
    "                   numbered = True)\n",
    "\n",
    "num:int = int(num_str[0])\n",
    "selected_name:list[str] = choices(names,k=num)\n",
    "\n",
    "for i in selected_name:\n",
    "    print(i)"
   ]
  }
 ],
 "metadata": {
  "kernelspec": {
   "display_name": "Python 3",
   "language": "python",
   "name": "python3"
  },
  "language_info": {
   "codemirror_mode": {
    "name": "ipython",
    "version": 3
   },
   "file_extension": ".py",
   "mimetype": "text/x-python",
   "name": "python",
   "nbconvert_exporter": "python",
   "pygments_lexer": "ipython3",
   "version": "3.10.14"
  }
 },
 "nbformat": 4,
 "nbformat_minor": 2
}
