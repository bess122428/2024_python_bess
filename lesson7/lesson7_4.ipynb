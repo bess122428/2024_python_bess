{
 "cells": [
  {
   "cell_type": "code",
   "execution_count": null,
   "metadata": {},
   "outputs": [],
   "source": [
    "import random\n",
    "import pyinputplus as pipy\n",
    "\n",
    "while(True):\n",
    "\n",
    "    min:int = 1\n",
    "    max:int = 10\n",
    "    count:int = 0\n",
    "\n",
    "    target:int = random.randint(min,max)\n",
    "    print(target)\n",
    "    print(\"==========猜數字遊戲===========\\n\")\n",
    "\n",
    "    while(True):\n",
    "        keyin:int = pipy.inputInt(f\"猜數字範圍{min}~{max}:\",min=min,max=max)\n",
    "        print(keyin)\n",
    "        count += 1\n",
    "        if keyin == target:\n",
    "            print(f\"賓果!猜對了,答案是{keyin}\")\n",
    "            print(f\"您猜了{count}次!\")\n",
    "            break\n",
    "        elif(keyin > target):\n",
    "            print(\"再小一些\")\n",
    "            max = keyin -1\n",
    "\n",
    "        elif(keyin < target):\n",
    "            print(\"再大一些\")\n",
    "            min = keyin +1\n",
    "            \n",
    "        print(f\"您猜了{count}次!\")\n",
    "    play_again:str = pipy.inputYesNo(\"請問還要繼續嗎?(Y/N)\")\n",
    "    if(play_again == \"no\"):\n",
    "        break\n",
    "\n",
    "print(\"遊戲結束\")"
   ]
  }
 ],
 "metadata": {
  "kernelspec": {
   "display_name": "Python 3",
   "language": "python",
   "name": "python3"
  },
  "language_info": {
   "name": "python",
   "version": "3.10.14"
  }
 },
 "nbformat": 4,
 "nbformat_minor": 2
}
