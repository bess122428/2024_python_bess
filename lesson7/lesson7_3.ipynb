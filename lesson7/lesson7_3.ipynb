{
 "cells": [
  {
   "cell_type": "code",
   "execution_count": 1,
   "metadata": {},
   "outputs": [
    {
     "name": "stdout",
     "output_type": "stream",
     "text": [
      "Hello!\n"
     ]
    }
   ],
   "source": [
    "#沒有回傳值\n",
    "\n",
    "def sayHello()->None:\n",
    "    print(\"Hello!\")\n",
    "sayHello()"
   ]
  },
  {
   "cell_type": "code",
   "execution_count": 2,
   "metadata": {},
   "outputs": [
    {
     "name": "stdout",
     "output_type": "stream",
     "text": [
      "0.00516185661113322\n"
     ]
    }
   ],
   "source": [
    "#function有回傳值\n",
    "\n",
    "import random\n",
    "\n",
    "def getRandomNum()->float:\n",
    "    return random.random()\n",
    "\n",
    "n:float = getRandomNum()\n",
    "print(n)\n"
   ]
  },
  {
   "cell_type": "code",
   "execution_count": 6,
   "metadata": {},
   "outputs": [
    {
     "name": "stdout",
     "output_type": "stream",
     "text": [
      "Hello!Peter!\n",
      "Hello!Mary!\n"
     ]
    }
   ],
   "source": [
    "#一個參數\n",
    "def sayHello(n:str)->None:\n",
    "    name:str = n\n",
    "    print(f\"Hello!{name}!\")\n",
    "sayHello(\"Peter\")#引數值\n",
    "sayHello(n=\"Mary\")#引數名稱的呼叫\n"
   ]
  },
  {
   "cell_type": "code",
   "execution_count": 8,
   "metadata": {},
   "outputs": [
    {
     "name": "stdout",
     "output_type": "stream",
     "text": [
      "50\n"
     ]
    },
    {
     "data": {
      "text/plain": [
       "50"
      ]
     },
     "execution_count": 8,
     "metadata": {},
     "output_type": "execute_result"
    }
   ],
   "source": [
    "#2個參數\n",
    "#傳出值int\n",
    "\n",
    "def multiply(a:int,b:int):\n",
    "    return a*b\n",
    "print(multiply(5,10))#引數值呼叫\n",
    "multiply(a = 5, b = 10)#引數名稱呼叫\n"
   ]
  },
  {
   "cell_type": "code",
   "execution_count": 11,
   "metadata": {},
   "outputs": [
    {
     "name": "stdout",
     "output_type": "stream",
     "text": [
      "請輸入查詢數值: 720\n",
      "720的因數1 2 3 4 5 6 8 9 10 12 15 16 18 20 24 30 36 40 45 48 60 72 80 90 120 144 180 240 360 720 \n",
      "程式結束\n"
     ]
    }
   ],
   "source": [
    "import pyinputplus as pypi\n",
    "\n",
    "def get_factor(n:int)->None:\n",
    "    print(f\"{n}的因數\",end='')\n",
    "    for i in range(1,n+1):\n",
    "        u:int = n%i\n",
    "        if u==0:\n",
    "            print(i ,end=' ')\n",
    "    print( )\n",
    "num:int = pypi.inputInt(\"請輸入查詢數值: \",min=1)\n",
    "print(num)\n",
    "get_factor(num)\n",
    "print(\"程式結束\")"
   ]
  }
 ],
 "metadata": {
  "kernelspec": {
   "display_name": "Python 3",
   "language": "python",
   "name": "python3"
  },
  "language_info": {
   "codemirror_mode": {
    "name": "ipython",
    "version": 3
   },
   "file_extension": ".py",
   "mimetype": "text/x-python",
   "name": "python",
   "nbconvert_exporter": "python",
   "pygments_lexer": "ipython3",
   "version": "3.10.14"
  }
 },
 "nbformat": 4,
 "nbformat_minor": 2
}
