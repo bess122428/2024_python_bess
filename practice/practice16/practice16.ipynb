{
 "cells": [
  {
   "cell_type": "code",
   "execution_count": 2,
   "metadata": {},
   "outputs": [
    {
     "name": "stdout",
     "output_type": "stream",
     "text": [
      "個股日成交資訊共有1113筆資料\n",
      "請選擇需要的人名數量(請選擇1,2,3,4,5):\n",
      "1. 1個\n",
      "2. 2個\n",
      "3. 3個\n",
      "4. 4個\n",
      "5. 5個\n",
      "{'成交筆數': '78',\n",
      " '成交股數': '84,087',\n",
      " '成交金額': '2,180,964',\n",
      " '收盤價': '27.00',\n",
      " '最低價': '25.45',\n",
      " '最高價': '27.00',\n",
      " '漲跌價差': '+0.55',\n",
      " '證券代號': '1903',\n",
      " '證券名稱': '士紙',\n",
      " '開盤價': '26.45'}\n",
      "{'成交筆數': '448',\n",
      " '成交股數': '2,968,000',\n",
      " '成交金額': '42,087,300',\n",
      " '收盤價': '14.23',\n",
      " '最低價': '13.97',\n",
      " '最高價': '14.31',\n",
      " '漲跌價差': '-0.06',\n",
      " '證券代號': '00738U',\n",
      " '證券名稱': '元大道瓊白銀',\n",
      " '開盤價': '14.31'}\n",
      "{'成交筆數': '202',\n",
      " '成交股數': '362,000',\n",
      " '成交金額': '8,380,700',\n",
      " '收盤價': '22.90',\n",
      " '最低價': '22.85',\n",
      " '最高價': '23.80',\n",
      " '漲跌價差': '-0.20',\n",
      " '證券代號': '1321',\n",
      " '證券名稱': '大洋',\n",
      " '開盤價': '23.10'}\n"
     ]
    }
   ],
   "source": [
    "import csv\n",
    "import pyinputplus as pipy\n",
    "from random import choices\n",
    "from pprint import pprint\n",
    "\n",
    "def main()->None:\n",
    "    with open('個股日成交資訊.csv',encoding = 'utf-8',newline = '') as file:\n",
    "        reader = csv.DictReader(file)\n",
    "        stocks:list[dict] = list(reader)\n",
    "    total = len(stocks)\n",
    "    print(f\"個股日成交資訊共有{total}筆資料\") \n",
    "    \n",
    "    num_str:str = pipy.inputMenu(['1個','2個','3個','4個','5個'],\n",
    "                   prompt = \"請選擇需要的人名數量(請選擇1,2,3,4,5):\\n\",\n",
    "                   numbered = True)\n",
    "    num:int = int(num_str[0])\n",
    "    selected_name:list[str] = choices(stocks,k = num)\n",
    "    \n",
    "    for name in selected_name:\n",
    "        pprint(name)\n",
    "\n",
    "if __name__ == '__main__':\n",
    "    main()"
   ]
  }
 ],
 "metadata": {
  "kernelspec": {
   "display_name": "Python 3",
   "language": "python",
   "name": "python3"
  },
  "language_info": {
   "codemirror_mode": {
    "name": "ipython",
    "version": 3
   },
   "file_extension": ".py",
   "mimetype": "text/x-python",
   "name": "python",
   "nbconvert_exporter": "python",
   "pygments_lexer": "ipython3",
   "version": "3.10.14"
  }
 },
 "nbformat": 4,
 "nbformat_minor": 2
}
