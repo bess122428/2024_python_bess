{
 "cells": [
  {
   "cell_type": "code",
   "execution_count": 1,
   "metadata": {},
   "outputs": [
    {
     "name": "stdout",
     "output_type": "stream",
     "text": [
      "Your name is robort\n",
      "Your height is 180.0 cm\n",
      "Your weight is 79.0 kg\n",
      "Your BMI value is 24.38\n",
      "Your BMI range is Too Heavy!.\n"
     ]
    }
   ],
   "source": [
    "def cal_bmi(height:float,weight:float) -> float:\n",
    "    bmi:float=weight/(height/100)**2\n",
    "    return bmi\n",
    "\n",
    "def get_status(bmi:float)->str:\n",
    "    if bmi < 18.5:\n",
    "        rate = \"UnderWeight!\"\n",
    "    elif bmi < 24:\n",
    "        rate = \"Normal Weight!\"\n",
    "    elif bmi < 27:\n",
    "        rate = \"Too Heavy!\"\n",
    "    elif bmi < 30:\n",
    "        rate = \"Mild Obesity!\"\n",
    "    elif bmi < 35:\n",
    "        rate = \"Moderately Obese!\"\n",
    "    else:\n",
    "        rate = \"Severe Obesity!\"\n",
    "        \n",
    "    return rate\n",
    "\n",
    "name = input(\"Please enter your name\")\n",
    "height = float(input(\"Please enter your height(cm):\"))\n",
    "weight = float(input(\"Please enter your weight(kg):\"))\n",
    "print(f\"Your name is {name}\")\n",
    "print(f\"Your height is {height} cm\")\n",
    "print(f\"Your weight is {weight} kg\")\n",
    "bmi=cal_bmi(height,weight)\n",
    "rate=get_status(bmi)\n",
    "print(f\"Your BMI value is {round(bmi,ndigits = 2)}\")\n",
    "print(f\"Your BMI range is {rate}.\")\n"
   ]
  }
 ],
 "metadata": {
  "kernelspec": {
   "display_name": "Python 3",
   "language": "python",
   "name": "python3"
  },
  "language_info": {
   "codemirror_mode": {
    "name": "ipython",
    "version": 3
   },
   "file_extension": ".py",
   "mimetype": "text/x-python",
   "name": "python",
   "nbconvert_exporter": "python",
   "pygments_lexer": "ipython3",
   "version": "3.10.14"
  }
 },
 "nbformat": 4,
 "nbformat_minor": 2
}
