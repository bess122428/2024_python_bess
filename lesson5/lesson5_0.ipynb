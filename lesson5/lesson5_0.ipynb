{
 "cells": [
  {
   "cell_type": "code",
   "execution_count": null,
   "metadata": {},
   "outputs": [],
   "source": [
    "name = input(\"請輸入您的名字:\")\n",
    "cm = float(input(\"請輸入您的身高(cm):\"))\n",
    "kg = float(input(\"請輸入您的體重(kg):\"))\n",
    "\n",
    "bmi = kg / (cm/100) ** 2\n",
    "print(f\"您的名字是:{name}\")\n",
    "print(f\"您的BMI值是:{round(bmi,ndigits = 2)}\")"
   ]
  }
 ],
 "metadata": {
  "language_info": {
   "name": "python"
  }
 },
 "nbformat": 4,
 "nbformat_minor": 2
}
