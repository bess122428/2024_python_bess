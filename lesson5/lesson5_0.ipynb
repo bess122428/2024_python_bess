{
 "cells": [
  {
   "cell_type": "code",
   "execution_count": null,
   "metadata": {},
   "outputs": [],
   "source": [
    "name = input(\"請輸入您的名字:\")\n",
    "cm = float(input(\"請輸入您的身高(cm):\"))\n",
    "kg = float(input(\"請輸入您的體重(kg):\"))\n",
    "\n",
    "bmi = kg / (cm/100) ** 2\n",
    "print(f\"您的名字是:{name}\")\n",
    "print(f\"您的BMI值是:{round(bmi,ndigits = 2)}\")"
   ]
  },
  {
   "cell_type": "code",
   "execution_count": 3,
   "metadata": {},
   "outputs": [
    {
     "name": "stdout",
     "output_type": "stream",
     "text": [
      "學生學生分數是:294\n"
     ]
    }
   ],
   "source": [
    "#學生總分為300分\n",
    "#有些學生可以加分5%\n",
    "\n",
    "scores = int(input(\"請輸入學生分數:(最高300分)\"))\n",
    "is_add = input(\"學生是否符合加分條件?(y/n):\")\n",
    "\n",
    "if is_add == \"y\":\n",
    "    scores *=1.05\n",
    "print(f\"學生學生分數是:{round(scores)}\")\n",
    "\n"
   ]
  }
 ],
 "metadata": {
  "kernelspec": {
   "display_name": "Python 3",
   "language": "python",
   "name": "python3"
  },
  "language_info": {
   "codemirror_mode": {
    "name": "ipython",
    "version": 3
   },
   "file_extension": ".py",
   "mimetype": "text/x-python",
   "name": "python",
   "nbconvert_exporter": "python",
   "pygments_lexer": "ipython3",
   "version": "3.10.14"
  }
 },
 "nbformat": 4,
 "nbformat_minor": 2
}
